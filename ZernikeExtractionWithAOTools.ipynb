{
 "cells": [
  {
   "cell_type": "code",
   "execution_count": 1,
   "metadata": {
    "collapsed": false
   },
   "outputs": [
    {
     "name": "stdout",
     "output_type": "stream",
     "text": [
      "Using matplotlib backend: TkAgg\n"
     ]
    }
   ],
   "source": [
    "%matplotlib\n",
    "import aotools\n",
    "import matplotlib.pyplot as plt\n",
    "from matplotlib import gridspec\n",
    "import numpy as np\n",
    "from scipy.integrate import trapz\n",
    "plt.rcParams['image.interpolation'] = 'nearest'"
   ]
  },
  {
   "cell_type": "code",
   "execution_count": 5,
   "metadata": {
    "collapsed": false
   },
   "outputs": [
    {
     "data": {
      "text/plain": [
       "<matplotlib.legend.Legend at 0x104a32b0>"
      ]
     },
     "execution_count": 5,
     "metadata": {},
     "output_type": "execute_result"
    }
   ],
   "source": [
    "## Generate sample data\n",
    "diameter = 128\n",
    "nzernike = 36\n",
    "zcoeffs_in = 256 * np.random.rand(nzernike)# - 128\n",
    "img = aotools.phaseFromZernikes(zcoeffs_in, diameter)\n",
    "\n",
    "## Decomposition by double integral\n",
    "zcoeffs_dbl = []\n",
    "for i in range(1,nzernike+1):\n",
    "    intermediate = trapz(img * aotools.zernike(i, diameter))\n",
    "    zcoeffs_dbl.append(trapz(intermediate) / (diameter*diameter))\n",
    "    \n",
    "## Decomposition by cross-correlation\n",
    "# Works only for +ve images.\n",
    "imgfft = np.fft.fft2(img)\n",
    "zcoeffs_fft = []\n",
    "zs = []\n",
    "for i in range(1,nzernike+1):\n",
    "    zfft = np.fft.fft2(aotools.zernike(i, diameter))\n",
    "    z = np.mean(imgfft * zfft) / (diameter*diameter)\n",
    "    zcoeffs_fft.append(np.abs(z))\n",
    "    \n",
    "## Compare results\n",
    "plt.figure()\n",
    "gs = gridspec.GridSpec(2, 3)\n",
    "\n",
    "ax = plt.subplot(gs[0, 0])\n",
    "ax.imshow(img)\n",
    "ax.set_title('input')\n",
    "\n",
    "ax = plt.subplot(gs[0, 1])\n",
    "ax.imshow(aotools.phaseFromZernikes(zcoeffs_dbl, diameter))\n",
    "ax.set_title('double integral')\n",
    "\n",
    "ax = plt.subplot(gs[0, 2])\n",
    "ax.imshow(aotools.phaseFromZernikes(zcoeffs_fft, diameter))\n",
    "ax.set_title('fft cross corr.')\n",
    "\n",
    "ax = plt.subplot(gs[1,:])\n",
    "ax.plot(range(nzernike), zcoeffs_in, 'b-', label=\"input\")\n",
    "ax.plot(range(nzernike), zcoeffs_dbl, 'r-', label=\"double integral\")\n",
    "ax.plot(range(nzernike), zcoeffs_fft, 'c-', label=\"fft cross-corr.\")\n",
    "ax.legend(loc='upper center', ncol=3, bbox_to_anchor=(0.5, 1.1))\n"
   ]
  },
  {
   "cell_type": "code",
   "execution_count": null,
   "metadata": {
    "collapsed": false
   },
   "outputs": [],
   "source": [
    "col = 'bgrcmyk'\n",
    "diameter = 128\n",
    "nzernike = 37\n",
    "zcoeffs_in = np.random.rand(nzernike)\n",
    "img = aotools.phaseFromZernikes(zcoeffs_in, diameter)\n",
    "\n",
    "zc = []\n",
    "zc_out = []\n",
    "for m in range(5):\n",
    "    zc.append(np.array(zcoeffs_in) + 0.05*m)\n",
    "    img = aotools.phaseFromZernikes(np.array(zc[m]), diameter)\n",
    "    imgfft = np.fft.fft2(img)\n",
    "    \n",
    "    zc_out.append([])\n",
    "    for i in range(1,nzernike+1):\n",
    "        zfft = np.fft.fft2(aotools.zernike(i, diameter))\n",
    "        zc_out[m].append(np.abs(np.mean(imgfft * zfft)) / (diameter*diameter))\n",
    "    \n",
    "    c = col[m%len(col)]\n",
    "    plt.plot(range(nzernike), zc[m], c)\n",
    "    plt.plot(range(nzernike), zc_out[m], c+':')\n",
    "plt.show()"
   ]
  }
 ],
 "metadata": {
  "kernelspec": {
   "display_name": "Python 3",
   "language": "python",
   "name": "python3"
  },
  "language_info": {
   "codemirror_mode": {
    "name": "ipython",
    "version": 3
   },
   "file_extension": ".py",
   "mimetype": "text/x-python",
   "name": "python",
   "nbconvert_exporter": "python",
   "pygments_lexer": "ipython3",
   "version": "3.5.2"
  }
 },
 "nbformat": 4,
 "nbformat_minor": 0
}
